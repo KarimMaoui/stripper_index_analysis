{
 "cells": [
  {
   "cell_type": "code",
   "execution_count": null,
   "metadata": {},
   "outputs": [],
   "source": [
    "from scripts import visualizer\n",
    "\n",
    "# Définir les plages de prix et de coûts\n",
    "price_range = list(range(30, 91, 5))     # Prix du baril de 30 à 90 USD\n",
    "cost_range = list(range(20, 61, 5))      # Coûts variables de 20 à 60 USD\n",
    "\n",
    "# Afficher la matrice de rentabilité\n",
    "visualizer.plot_profitability_matrix(price_range, cost_range)"
   ]
  }
 ],
 "metadata": {
  "kernelspec": {
   "display_name": "Python 3",
   "language": "python",
   "name": "python3"
  },
  "language_info": {
   "name": "python",
   "version": "3.10"
  }
 },
 "nbformat": 4,
 "nbformat_minor": 2
}
